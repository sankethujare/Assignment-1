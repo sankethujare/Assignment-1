{
 "cells": [
  {
   "cell_type": "code",
   "execution_count": 2,
   "id": "176903db-d72f-491f-b7ff-1ce553739541",
   "metadata": {},
   "outputs": [],
   "source": [
    "# # Q-1\n",
    "\n",
    "# for loop can be used when we have list tuple set or dict where we know the set of collection.\n",
    "# in this case we know the number of interation to be performed \n",
    "\n",
    "\n",
    "# while loop can be perfored when we know certain condition to execute the code \n",
    "# while loop willl exucite untilll condition is true\n"
   ]
  },
  {
   "cell_type": "code",
   "execution_count": null,
   "id": "1588b7a2-3918-4077-bf0a-80e9971bfc0c",
   "metadata": {},
   "outputs": [],
   "source": [
    "# Q-2 (A) USING FOR LOOP\n",
    "\n",
    "sum1 , prod1 = 0 , 1\n",
    "\n",
    "\n",
    "for i in range(1,11):\n",
    "    sum1=sum1 +i\n",
    "    prod1=prod1*i\n",
    "\n",
    "print(\"sum of first 10 numbers  using for loop is \", sum1 ,\"\\nproduct of first 10 numbers using for loop is \", prod1)\n",
    "\n",
    "\n",
    "# Q-2 (A) USING while LOOP\n",
    "\n",
    "i=1\n",
    "sum2 , prod2 = 0 , 1\n",
    "\n",
    "while i<=10:\n",
    "    sum2=sum2 +i\n",
    "    prod2=prod2*i\n",
    "    i=i+1\n",
    "\n",
    "print(\"sum of first 10 numbers  using while loop is \", sum2 ,\"\\nproduct of first 10 numbers using while loop is \", prod2)"
   ]
  },
  {
   "cell_type": "code",
   "execution_count": null,
   "id": "069e6751-3873-48ae-bf20-9f36d8915944",
   "metadata": {},
   "outputs": [],
   "source": [
    "# Q-3 ELECTRICITY PROBLEM\n",
    "\n",
    "units =int(input(\"please enter the units of electricity consumed in a month \"))\n",
    "\n",
    "total_bill=0\n",
    "\n",
    "if units<=100:\n",
    "    total_bill=units*4.5\n",
    "elif units >100 and units <=200:\n",
    "    total_bill= 100*4.5 + (units-100)*6\n",
    "elif units > 200 and units <= 300:\n",
    "    total_bill= 100*4.5 + 100*6 + (units-200)*10\n",
    "elif units > 300:\n",
    "    total_bill= 100*4.5 + 100*6 + 100*10 +(units-300)*20\n",
    "\n",
    "print(\"your total bill for the respective month would be \", total_bill, \"Rs\")"
   ]
  },
  {
   "cell_type": "code",
   "execution_count": null,
   "id": "892637c0-cbb7-44bc-895f-07b880bcf7a3",
   "metadata": {},
   "outputs": [],
   "source": [
    "# Q -4  using for loop\n",
    "\n",
    "new_list=[]\n",
    "\n",
    "for i in range (1,101):\n",
    "    if (i*i*i)%4==0 or (i*i*i)%5==0:\n",
    "        new_list.append(i)\n",
    "\n",
    "print(new_list)\n"
   ]
  },
  {
   "cell_type": "code",
   "execution_count": null,
   "id": "4d09a444-0b16-437b-80e6-8485baf8c2c0",
   "metadata": {},
   "outputs": [],
   "source": [
    "# Q -4 using while loop\n",
    "\n",
    "\n",
    "new_list=[]\n",
    "i=1\n",
    "\n",
    "while i <= 100:\n",
    "    if (i*i*i)%4==0 or (i*i*i)%5==0:\n",
    "        new_list.append(i)\n",
    "    i=i+1\n",
    "\n",
    "print(new_list)\n"
   ]
  },
  {
   "cell_type": "code",
   "execution_count": 1,
   "id": "4e71481c-2581-4a47-9007-77d262638dd2",
   "metadata": {},
   "outputs": [
    {
     "name": "stdout",
     "output_type": "stream",
     "text": [
      "the number of vowels is  12\n"
     ]
    }
   ],
   "source": [
    "# Q-5\n",
    "\n",
    "\n",
    "s = \"I want to become a data scientist\"\n",
    "count =0\n",
    "\n",
    "for i in s:\n",
    "    if i==\"a\" or i==\"e\" or i==\"i\"  or i==\"o\" or i==\"u\" or i==\"A\" or i==\"E\" or i==\"I\"  or i==\"O\" or i==\"U\":\n",
    "        count =count +1\n",
    "        \n",
    "print(\"the number of vowels is \" ,count )"
   ]
  },
  {
   "cell_type": "code",
   "execution_count": null,
   "id": "25d35a2b-c154-4806-813c-667c26e23157",
   "metadata": {},
   "outputs": [],
   "source": []
  }
 ],
 "metadata": {
  "kernelspec": {
   "display_name": "Python 3 (ipykernel)",
   "language": "python",
   "name": "python3"
  },
  "language_info": {
   "codemirror_mode": {
    "name": "ipython",
    "version": 3
   },
   "file_extension": ".py",
   "mimetype": "text/x-python",
   "name": "python",
   "nbconvert_exporter": "python",
   "pygments_lexer": "ipython3",
   "version": "3.11.0"
  }
 },
 "nbformat": 4,
 "nbformat_minor": 5
}
